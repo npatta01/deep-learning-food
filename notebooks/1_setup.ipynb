{
 "cells": [
  {
   "cell_type": "code",
   "execution_count": 9,
   "metadata": {},
   "outputs": [],
   "source": [
    "\n",
    "import pandas as pd\n",
    "import requests\n",
    "import glob\n",
    "from io import BytesIO\n",
    "import numpy as np\n",
    "import os\n",
    "import shutil\n",
    "import pprint\n",
    "import json"
   ]
  },
  {
   "cell_type": "code",
   "execution_count": null,
   "metadata": {},
   "outputs": [],
   "source": []
  },
  {
   "cell_type": "code",
   "execution_count": 10,
   "metadata": {},
   "outputs": [],
   "source": [
    "from fastai import *\n",
    "from fastai.vision import *"
   ]
  },
  {
   "cell_type": "code",
   "execution_count": null,
   "metadata": {},
   "outputs": [],
   "source": []
  },
  {
   "cell_type": "code",
   "execution_count": 4,
   "metadata": {},
   "outputs": [],
   "source": [
    "# retrieving Data"
   ]
  },
  {
   "cell_type": "markdown",
   "metadata": {},
   "source": [
    "!mkdir -p ../data\n",
    "!wget http://data.vision.ee.ethz.ch/cvl/food-101.tar.gz -P ../data\n",
    "!tar xzf ../data/food-101.tar.gz -C ../data\n"
   ]
  },
  {
   "cell_type": "code",
   "execution_count": null,
   "metadata": {},
   "outputs": [],
   "source": []
  },
  {
   "cell_type": "code",
   "execution_count": 3,
   "metadata": {},
   "outputs": [
    {
     "name": "stdout",
     "output_type": "stream",
     "text": [
      "food-101  food-101.tar.gz\n"
     ]
    }
   ],
   "source": [
    "!ls ../data\n"
   ]
  },
  {
   "cell_type": "code",
   "execution_count": 4,
   "metadata": {},
   "outputs": [
    {
     "name": "stdout",
     "output_type": "stream",
     "text": [
      "images\tlicense_agreement.txt  meta  README.txt\n"
     ]
    }
   ],
   "source": [
    "!ls ../data/food-101/\n"
   ]
  },
  {
   "cell_type": "code",
   "execution_count": 5,
   "metadata": {},
   "outputs": [
    {
     "name": "stdout",
     "output_type": "stream",
     "text": [
      "apple_pie\n",
      "baby_back_ribs\n",
      "baklava\n",
      "beef_carpaccio\n",
      "beef_tartare\n"
     ]
    }
   ],
   "source": [
    "!ls ../data/food-101/images | head -n 5\n"
   ]
  },
  {
   "cell_type": "code",
   "execution_count": 6,
   "metadata": {},
   "outputs": [],
   "source": [
    "path = Path('../data/food-101/images')\n"
   ]
  },
  {
   "cell_type": "code",
   "execution_count": null,
   "metadata": {},
   "outputs": [],
   "source": []
  },
  {
   "cell_type": "code",
   "execution_count": 7,
   "metadata": {},
   "outputs": [],
   "source": [
    "data = ImageDataBunch.from_folder(path, valid_pct=0.2,\n",
    "        ds_tfms=get_transforms(), size=224, num_workers=8, bs=64).normalize(imagenet_stats)"
   ]
  },
  {
   "cell_type": "code",
   "execution_count": 8,
   "metadata": {},
   "outputs": [
    {
     "data": {
      "text/plain": [
       "(['apple_pie',\n",
       "  'baby_back_ribs',\n",
       "  'baklava',\n",
       "  'beef_carpaccio',\n",
       "  'beef_tartare',\n",
       "  'beet_salad',\n",
       "  'beignets',\n",
       "  'bibimbap',\n",
       "  'bread_pudding',\n",
       "  'breakfast_burrito',\n",
       "  'bruschetta',\n",
       "  'caesar_salad',\n",
       "  'cannoli',\n",
       "  'caprese_salad',\n",
       "  'carrot_cake',\n",
       "  'ceviche',\n",
       "  'cheese_plate',\n",
       "  'cheesecake',\n",
       "  'chicken_curry',\n",
       "  'chicken_quesadilla',\n",
       "  'chicken_wings',\n",
       "  'chocolate_cake',\n",
       "  'chocolate_mousse',\n",
       "  'churros',\n",
       "  'clam_chowder',\n",
       "  'club_sandwich',\n",
       "  'crab_cakes',\n",
       "  'creme_brulee',\n",
       "  'croque_madame',\n",
       "  'cup_cakes',\n",
       "  'deviled_eggs',\n",
       "  'donuts',\n",
       "  'dumplings',\n",
       "  'edamame',\n",
       "  'eggs_benedict',\n",
       "  'escargots',\n",
       "  'falafel',\n",
       "  'filet_mignon',\n",
       "  'fish_and_chips',\n",
       "  'foie_gras',\n",
       "  'french_fries',\n",
       "  'french_onion_soup',\n",
       "  'french_toast',\n",
       "  'fried_calamari',\n",
       "  'fried_rice',\n",
       "  'frozen_yogurt',\n",
       "  'garlic_bread',\n",
       "  'gnocchi',\n",
       "  'greek_salad',\n",
       "  'grilled_cheese_sandwich',\n",
       "  'grilled_salmon',\n",
       "  'guacamole',\n",
       "  'gyoza',\n",
       "  'hamburger',\n",
       "  'hot_and_sour_soup',\n",
       "  'hot_dog',\n",
       "  'huevos_rancheros',\n",
       "  'hummus',\n",
       "  'ice_cream',\n",
       "  'lasagna',\n",
       "  'lobster_bisque',\n",
       "  'lobster_roll_sandwich',\n",
       "  'macaroni_and_cheese',\n",
       "  'macarons',\n",
       "  'miso_soup',\n",
       "  'mussels',\n",
       "  'nachos',\n",
       "  'omelette',\n",
       "  'onion_rings',\n",
       "  'oysters',\n",
       "  'pad_thai',\n",
       "  'paella',\n",
       "  'pancakes',\n",
       "  'panna_cotta',\n",
       "  'peking_duck',\n",
       "  'pho',\n",
       "  'pizza',\n",
       "  'pork_chop',\n",
       "  'poutine',\n",
       "  'prime_rib',\n",
       "  'pulled_pork_sandwich',\n",
       "  'ramen',\n",
       "  'ravioli',\n",
       "  'red_velvet_cake',\n",
       "  'risotto',\n",
       "  'samosa',\n",
       "  'sashimi',\n",
       "  'scallops',\n",
       "  'seaweed_salad',\n",
       "  'shrimp_and_grits',\n",
       "  'spaghetti_bolognese',\n",
       "  'spaghetti_carbonara',\n",
       "  'spring_rolls',\n",
       "  'steak',\n",
       "  'strawberry_shortcake',\n",
       "  'sushi',\n",
       "  'tacos',\n",
       "  'takoyaki',\n",
       "  'tiramisu',\n",
       "  'tuna_tartare',\n",
       "  'waffles'],\n",
       " 101,\n",
       " 80800,\n",
       " 20200)"
      ]
     },
     "execution_count": 8,
     "metadata": {},
     "output_type": "execute_result"
    }
   ],
   "source": [
    "data.classes, data.c, len(data.train_ds), len(data.valid_ds)\n"
   ]
  },
  {
   "cell_type": "code",
   "execution_count": null,
   "metadata": {},
   "outputs": [],
   "source": []
  }
 ],
 "metadata": {
  "kernelspec": {
   "display_name": "Python 3",
   "language": "python",
   "name": "python3"
  },
  "language_info": {
   "codemirror_mode": {
    "name": "ipython",
    "version": 3
   },
   "file_extension": ".py",
   "mimetype": "text/x-python",
   "name": "python",
   "nbconvert_exporter": "python",
   "pygments_lexer": "ipython3",
   "version": "3.7.0"
  }
 },
 "nbformat": 4,
 "nbformat_minor": 2
}
